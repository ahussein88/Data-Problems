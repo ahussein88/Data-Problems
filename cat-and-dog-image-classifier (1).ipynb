{
 "cells": [
  {
   "cell_type": "markdown",
   "id": "5e3887b1",
   "metadata": {
    "id": "Y_J2FcCFFy3D",
    "papermill": {
     "duration": 0.007379,
     "end_time": "2024-01-23T08:00:27.870025",
     "exception": false,
     "start_time": "2024-01-23T08:00:27.862646",
     "status": "completed"
    },
    "tags": []
   },
   "source": [
    "# Cat and Dog Image Classifier"
   ]
  },
  {
   "cell_type": "code",
   "execution_count": 7,
   "id": "0aa7da5b",
   "metadata": {
    "execution": {
     "iopub.execute_input": "2024-01-23T08:00:27.907005Z",
     "iopub.status.busy": "2024-01-23T08:00:27.906623Z",
     "iopub.status.idle": "2024-01-23T08:00:43.916218Z",
     "shell.execute_reply": "2024-01-23T08:00:43.914681Z"
    },
    "id": "la_Oz6oLlub6",
    "outputId": "c2773c02-d3c2-48cb-aaa2-38eb1b2fb63e",
    "papermill": {
     "duration": 16.020632,
     "end_time": "2024-01-23T08:00:43.919676",
     "exception": false,
     "start_time": "2024-01-23T08:00:27.899044",
     "status": "completed"
    },
    "tags": []
   },
   "outputs": [],
   "source": [
    "#try:\n",
    "  # This command only in Colab.\n",
    "#  %tensorflow_version 2.x\n",
    "#except Exception:\n",
    "#  pass\n",
    "import tensorflow as tf\n",
    "\n",
    "from tensorflow.keras.models import Sequential\n",
    "from tensorflow.keras.layers import Dense, Conv2D, Flatten, Dropout, MaxPooling2D\n",
    "from tensorflow.keras.preprocessing.image import ImageDataGenerator\n",
    "\n",
    "import os\n",
    "import numpy as np\n",
    "import matplotlib.pyplot as plt"
   ]
  },
  {
   "cell_type": "code",
   "execution_count": 2,
   "id": "981696cb",
   "metadata": {},
   "outputs": [],
   "source": [
    "#import tensorflow as tf\n"
   ]
  },
  {
   "cell_type": "code",
   "execution_count": 4,
   "id": "b281c407",
   "metadata": {
    "execution": {
     "iopub.execute_input": "2024-01-23T08:00:43.935082Z",
     "iopub.status.busy": "2024-01-23T08:00:43.934255Z",
     "iopub.status.idle": "2024-01-23T08:00:48.639202Z",
     "shell.execute_reply": "2024-01-23T08:00:48.637898Z"
    },
    "id": "jaF8r6aOl48C",
    "outputId": "581a4db0-85eb-4c3e-a0ec-b4f2eee9cd5b",
    "papermill": {
     "duration": 4.716669,
     "end_time": "2024-01-23T08:00:48.642720",
     "exception": false,
     "start_time": "2024-01-23T08:00:43.926051",
     "status": "completed"
    },
    "tags": []
   },
   "outputs": [
    {
     "name": "stdout",
     "output_type": "stream",
     "text": [
      "--2024-04-22 01:36:23--  https://cdn.freecodecamp.org/project-data/cats-and-dogs/cats_and_dogs.zip\n",
      "Resolving cdn.freecodecamp.org (cdn.freecodecamp.org)... 2606:4700:20::681a:321, 2606:4700:20::681a:221, 2606:4700:20::ac43:4695, ...\n",
      "Connecting to cdn.freecodecamp.org (cdn.freecodecamp.org)|2606:4700:20::681a:321|:443... connected.\n",
      "HTTP request sent, awaiting response... 200 OK\n",
      "Length: 70702765 (67M) [application/zip]\n",
      "Saving to: 'cats_and_dogs.zip.3'\n",
      "\n",
      "cats_and_dogs.zip.3 100%[===================>]  67.43M  10.9MB/s    in 5.6s    \n",
      "\n",
      "2024-04-22 01:36:29 (12.0 MB/s) - 'cats_and_dogs.zip.3' saved [70702765/70702765]\n",
      "\n",
      "Archive:  cats_and_dogs.zip\n",
      "replace cats_and_dogs/.DS_Store? [y]es, [n]o, [A]ll, [N]one, [r]ename: ^C\n"
     ]
    }
   ],
   "source": [
    "# Get project files\n",
    "!wget https://cdn.freecodecamp.org/project-data/cats-and-dogs/cats_and_dogs.zip\n",
    "\n",
    "!unzip cats_and_dogs.zip\n",
    "\n",
    "PATH = 'cats_and_dogs'\n",
    "\n",
    "train_dir = os.path.join(PATH, 'train')\n",
    "validation_dir = os.path.join(PATH, 'validation')\n",
    "test_dir = os.path.join(PATH, 'test')\n",
    "\n",
    "# Get number of files in each directory. The train and validation directories\n",
    "# each have the subdirecories \"dogs\" and \"cats\".\n",
    "total_train = sum([len(files) for r, d, files in os.walk(train_dir)])\n",
    "total_val = sum([len(files) for r, d, files in os.walk(validation_dir)])\n",
    "total_test = len(os.listdir(test_dir))\n",
    "\n",
    "# Variables for pre-processing and training.\n",
    "batch_size = 128\n",
    "epochs = 15\n",
    "IMG_HEIGHT = 150\n",
    "IMG_WIDTH = 150"
   ]
  },
  {
   "cell_type": "code",
   "execution_count": 6,
   "id": "590630f6",
   "metadata": {
    "execution": {
     "iopub.execute_input": "2024-01-23T08:00:48.688449Z",
     "iopub.status.busy": "2024-01-23T08:00:48.687429Z",
     "iopub.status.idle": "2024-01-23T08:00:48.892248Z",
     "shell.execute_reply": "2024-01-23T08:00:48.891354Z"
    },
    "id": "EOJFeEfumns6",
    "outputId": "8ef9d3cf-2de0-4cd7-943b-203b975c543b",
    "papermill": {
     "duration": 0.229435,
     "end_time": "2024-01-23T08:00:48.895032",
     "exception": false,
     "start_time": "2024-01-23T08:00:48.665597",
     "status": "completed"
    },
    "tags": []
   },
   "outputs": [
    {
     "name": "stdout",
     "output_type": "stream",
     "text": [
      "Found 2000 images belonging to 2 classes.\n",
      "Found 1000 images belonging to 2 classes.\n",
      "Found 50 images belonging to 1 classes.\n"
     ]
    }
   ],
   "source": [
    "# 3\n",
    "train_image_generator      = ImageDataGenerator(rescale=1./255)\n",
    "validation_image_generator = ImageDataGenerator(rescale=1./255)\n",
    "test_image_generator       = ImageDataGenerator(rescale=1./255)\n",
    "\n",
    "train_data_gen = train_image_generator.flow_from_directory(\n",
    "                    train_dir,\n",
    "                    target_size=(IMG_HEIGHT, IMG_WIDTH),\n",
    "                    batch_size=batch_size,\n",
    "                    class_mode='binary')\n",
    "\n",
    "val_data_gen   = validation_image_generator.flow_from_directory(\n",
    "                    validation_dir,\n",
    "                    target_size=(IMG_HEIGHT, IMG_WIDTH),\n",
    "                    batch_size=batch_size,\n",
    "                    class_mode='binary')\n",
    "\n",
    "test_data_gen  = test_image_generator.flow_from_directory(\n",
    "                    PATH,\n",
    "                    target_size=(IMG_HEIGHT, IMG_WIDTH),\n",
    "                    batch_size=batch_size,\n",
    "                    classes=['test'],\n",
    "                    shuffle=False)"
   ]
  },
  {
   "cell_type": "code",
   "execution_count": null,
   "id": "4206ae0c",
   "metadata": {
    "execution": {
     "iopub.execute_input": "2024-01-23T08:00:48.937824Z",
     "iopub.status.busy": "2024-01-23T08:00:48.936977Z",
     "iopub.status.idle": "2024-01-23T08:00:49.647104Z",
     "shell.execute_reply": "2024-01-23T08:00:49.646154Z"
    },
    "id": "TP0WA8j1mt7Q",
    "outputId": "ea6ca323-3510-49eb-c59e-124671fcdef2",
    "papermill": {
     "duration": 0.740203,
     "end_time": "2024-01-23T08:00:49.654088",
     "exception": false,
     "start_time": "2024-01-23T08:00:48.913885",
     "status": "completed"
    },
    "tags": []
   },
   "outputs": [],
   "source": [
    "# 4\n",
    "def plotImages(images_arr, probabilities = False):\n",
    "    fig, axes = plt.subplots(len(images_arr), 1, figsize=(5,len(images_arr) * 3))\n",
    "    if probabilities is False:\n",
    "      for img, ax in zip( images_arr, axes):\n",
    "          ax.imshow(img)\n",
    "          ax.axis('off')\n",
    "    else:\n",
    "      for img, probability, ax in zip( images_arr, probabilities, axes):\n",
    "          ax.imshow(img)\n",
    "          ax.axis('off')\n",
    "          if probability > 0.5:\n",
    "              ax.set_title(\"%.2f\" % (probability*100) + \"% dog\")\n",
    "          else:\n",
    "              ax.set_title(\"%.2f\" % ((1-probability)*100) + \"% cat\")\n",
    "    plt.show()\n",
    "\n",
    "sample_training_images, _ = next(train_data_gen)\n",
    "plotImages(sample_training_images[:5])\n"
   ]
  },
  {
   "cell_type": "code",
   "execution_count": null,
   "id": "33e282cd",
   "metadata": {
    "execution": {
     "iopub.execute_input": "2024-01-23T08:00:49.704839Z",
     "iopub.status.busy": "2024-01-23T08:00:49.703764Z",
     "iopub.status.idle": "2024-01-23T08:00:49.709994Z",
     "shell.execute_reply": "2024-01-23T08:00:49.708924Z"
    },
    "id": "-32RRLY_3voj",
    "papermill": {
     "duration": 0.03449,
     "end_time": "2024-01-23T08:00:49.712672",
     "exception": false,
     "start_time": "2024-01-23T08:00:49.678182",
     "status": "completed"
    },
    "tags": []
   },
   "outputs": [],
   "source": [
    "# 5\n",
    "train_image_generator = ImageDataGenerator(\n",
    "                            rescale=1./255,\n",
    "                            horizontal_flip=True,\n",
    "                            rotation_range=20,\n",
    "                            zoom_range=0.15,\n",
    "                            width_shift_range=0.2,\n",
    "                            height_shift_range=0.2,\n",
    "                            shear_range=0.15,\n",
    "                            fill_mode=\"nearest\")\n"
   ]
  },
  {
   "cell_type": "code",
   "execution_count": null,
   "id": "9bd7e549",
   "metadata": {
    "execution": {
     "iopub.execute_input": "2024-01-23T08:00:49.764202Z",
     "iopub.status.busy": "2024-01-23T08:00:49.763755Z",
     "iopub.status.idle": "2024-01-23T08:00:55.068612Z",
     "shell.execute_reply": "2024-01-23T08:00:55.067330Z"
    },
    "id": "pkwq2LFvqabS",
    "outputId": "10f98534-59fc-4dac-d880-33109af05642",
    "papermill": {
     "duration": 5.337573,
     "end_time": "2024-01-23T08:00:55.074995",
     "exception": false,
     "start_time": "2024-01-23T08:00:49.737422",
     "status": "completed"
    },
    "tags": []
   },
   "outputs": [],
   "source": [
    "# 6\n",
    "train_data_gen = train_image_generator.flow_from_directory(batch_size=batch_size,\n",
    "                                                     directory=train_dir,\n",
    "                                                     target_size=(IMG_HEIGHT, IMG_WIDTH),\n",
    "                                                     class_mode='binary')\n",
    "\n",
    "augmented_images = [train_data_gen[0][0][0] for i in range(5)]\n",
    "\n",
    "plotImages(augmented_images)"
   ]
  },
  {
   "cell_type": "code",
   "execution_count": null,
   "id": "9a09c7f1",
   "metadata": {
    "execution": {
     "iopub.execute_input": "2024-01-23T08:00:55.141994Z",
     "iopub.status.busy": "2024-01-23T08:00:55.141545Z",
     "iopub.status.idle": "2024-01-23T08:00:55.650093Z",
     "shell.execute_reply": "2024-01-23T08:00:55.649031Z"
    },
    "id": "k8aZkwMam4UY",
    "outputId": "81c1c31a-2d7e-4ed1-c2dd-7e3876719e11",
    "papermill": {
     "duration": 0.56014,
     "end_time": "2024-01-23T08:00:55.666040",
     "exception": false,
     "start_time": "2024-01-23T08:00:55.105900",
     "status": "completed"
    },
    "tags": []
   },
   "outputs": [],
   "source": [
    "# 7\n",
    "from keras.layers import Input\n",
    "model = Sequential()\n",
    "\n",
    "# Convolutions\n",
    "model.add(Input(shape=(IMG_HEIGHT, IMG_WIDTH, 3)))\n",
    "model.add(Conv2D(32, (3,3)))\n",
    "model.add(MaxPooling2D(pool_size=(2, 2)))\n",
    "model.add(Conv2D(64, (3,3)))\n",
    "model.add(MaxPooling2D(pool_size=(2, 2)))\n",
    "model.add(Conv2D(128, (3,3)))\n",
    "model.add(MaxPooling2D(pool_size=(2, 2)))\n",
    "\n",
    "# Dense layers\n",
    "model.add(Flatten())\n",
    "model.add(Dense(512, activation='relu'))\n",
    "model.add(Dense(1, activation='sigmoid'))\n",
    "\n",
    "# Optimizer\n",
    "model.compile(optimizer='adam',\n",
    "              loss='binary_crossentropy',\n",
    "              metrics=['accuracy'])\n",
    "\n",
    "model.summary()"
   ]
  },
  {
   "cell_type": "code",
   "execution_count": null,
   "id": "f3cf61d5",
   "metadata": {
    "execution": {
     "iopub.execute_input": "2024-01-23T08:00:55.734492Z",
     "iopub.status.busy": "2024-01-23T08:00:55.734055Z",
     "iopub.status.idle": "2024-01-23T08:19:13.152638Z",
     "shell.execute_reply": "2024-01-23T08:19:13.151654Z"
    },
    "id": "1niQDz5x6K7y",
    "outputId": "0bceccc5-9773-4c66-e5d3-f4b2173c3b1b",
    "papermill": {
     "duration": 1097.456038,
     "end_time": "2024-01-23T08:19:13.155326",
     "exception": false,
     "start_time": "2024-01-23T08:00:55.699288",
     "status": "completed"
    },
    "tags": []
   },
   "outputs": [],
   "source": [
    "# 8\n",
    "\n",
    "history = model.fit(\n",
    "            train_data_gen, #steps_per_epoch=train_steps,\n",
    "            validation_data=val_data_gen, #validation_steps=val_steps,\n",
    "            epochs=epochs)"
   ]
  },
  {
   "cell_type": "code",
   "execution_count": null,
   "id": "dad1ec38",
   "metadata": {
    "execution": {
     "iopub.execute_input": "2024-01-23T08:19:13.273024Z",
     "iopub.status.busy": "2024-01-23T08:19:13.272618Z",
     "iopub.status.idle": "2024-01-23T08:19:13.811702Z",
     "shell.execute_reply": "2024-01-23T08:19:13.810797Z"
    },
    "id": "5xS51mB56OAC",
    "outputId": "3a701612-75d3-4af9-e558-d2ca76ca7548",
    "papermill": {
     "duration": 0.601139,
     "end_time": "2024-01-23T08:19:13.814159",
     "exception": false,
     "start_time": "2024-01-23T08:19:13.213020",
     "status": "completed"
    },
    "tags": []
   },
   "outputs": [],
   "source": [
    "# 9\n",
    "acc = history.history['accuracy']\n",
    "val_acc = history.history['val_accuracy']\n",
    "\n",
    "loss = history.history['loss']\n",
    "val_loss = history.history['val_loss']\n",
    "\n",
    "epochs_range = range(epochs)\n",
    "\n",
    "plt.figure(figsize=(8, 8))\n",
    "plt.subplot(1, 2, 1)\n",
    "plt.plot(epochs_range, acc, label='Training Accuracy')\n",
    "plt.plot(epochs_range, val_acc, label='Validation Accuracy')\n",
    "plt.legend(loc='lower right')\n",
    "plt.title('Training and Validation Accuracy')\n",
    "\n",
    "plt.subplot(1, 2, 2)\n",
    "plt.plot(epochs_range, loss, label='Training Loss')\n",
    "plt.plot(epochs_range, val_loss, label='Validation Loss')\n",
    "plt.legend(loc='upper right')\n",
    "plt.title('Training and Validation Loss')\n",
    "plt.show()"
   ]
  },
  {
   "cell_type": "code",
   "execution_count": null,
   "id": "bd5c98b6",
   "metadata": {
    "execution": {
     "iopub.execute_input": "2024-01-23T08:19:13.936822Z",
     "iopub.status.busy": "2024-01-23T08:19:13.935736Z",
     "iopub.status.idle": "2024-01-23T08:19:14.670240Z",
     "shell.execute_reply": "2024-01-23T08:19:14.669061Z"
    },
    "id": "vYrSifOit2aK",
    "outputId": "b1221bbc-558c-4256-e314-4e89f8421f7f",
    "papermill": {
     "duration": 0.79693,
     "end_time": "2024-01-23T08:19:14.672907",
     "exception": false,
     "start_time": "2024-01-23T08:19:13.875977",
     "status": "completed"
    },
    "tags": []
   },
   "outputs": [],
   "source": [
    "#10\n",
    "probabilities = model.predict(test_data_gen).flatten()\n",
    "probabilities"
   ]
  },
  {
   "cell_type": "code",
   "execution_count": null,
   "id": "1fac9760",
   "metadata": {
    "execution": {
     "iopub.execute_input": "2024-01-23T08:19:14.797789Z",
     "iopub.status.busy": "2024-01-23T08:19:14.797359Z",
     "iopub.status.idle": "2024-01-23T08:19:14.808245Z",
     "shell.execute_reply": "2024-01-23T08:19:14.807032Z"
    },
    "id": "4IH86Ux_u7TZ",
    "outputId": "a9c263df-efc8-4d65-d0d9-d34a61af200b",
    "papermill": {
     "duration": 0.076902,
     "end_time": "2024-01-23T08:19:14.810959",
     "exception": false,
     "start_time": "2024-01-23T08:19:14.734057",
     "status": "completed"
    },
    "tags": []
   },
   "outputs": [],
   "source": [
    "# 11\n",
    "answers =  [1, 0, 0, 1, 0, 0, 0, 0, 1, 1, 0,\n",
    "            1, 0, 1, 0, 1, 1, 0, 1, 1, 0, 0,\n",
    "            1, 1, 1, 1, 1, 0, 0, 0, 0, 0, 1,\n",
    "            1, 0, 1, 1, 1, 1, 0, 1, 0, 1, 1,\n",
    "            0, 0, 0, 0, 0, 0]\n",
    "\n",
    "correct = 0\n",
    "\n",
    "for probability, answer in zip(probabilities, answers):\n",
    "  if round(probability) == answer:\n",
    "    correct +=1\n",
    "\n",
    "percentage_identified = (correct / len(answers)) * 100\n",
    "\n",
    "passed_challenge = percentage_identified >= 63\n",
    "\n",
    "print(f\"Your model correctly identified {round(percentage_identified, 2)}% of the images of cats and dogs.\")\n",
    "\n",
    "if passed_challenge:\n",
    "  print(\"You passed the challenge!\")\n",
    "else:\n",
    "  print(\"You haven't passed yet. Your model should identify at least 63% of the images. Keep trying. You will get it!\")"
   ]
  },
  {
   "cell_type": "code",
   "execution_count": null,
   "id": "63943de1",
   "metadata": {},
   "outputs": [],
   "source": []
  }
 ],
 "metadata": {
  "colab": {
   "provenance": []
  },
  "kaggle": {
   "accelerator": "none",
   "dataSources": [
    {
     "datasetId": 1611630,
     "sourceId": 2650236,
     "sourceType": "datasetVersion"
    },
    {
     "datasetId": 23777,
     "sourceId": 30378,
     "sourceType": "datasetVersion"
    },
    {
     "datasetId": 650614,
     "sourceId": 1151625,
     "sourceType": "datasetVersion"
    },
    {
     "datasetId": 2716794,
     "sourceId": 4748798,
     "sourceType": "datasetVersion"
    },
    {
     "datasetId": 137362,
     "sourceId": 325302,
     "sourceType": "datasetVersion"
    },
    {
     "datasetId": 3917177,
     "sourceId": 6809272,
     "sourceType": "datasetVersion"
    },
    {
     "datasetId": 110587,
     "sourceId": 264445,
     "sourceType": "datasetVersion"
    }
   ],
   "dockerImageVersionId": 30635,
   "isGpuEnabled": false,
   "isInternetEnabled": true,
   "language": "python",
   "sourceType": "notebook"
  },
  "kernelspec": {
   "display_name": "Python 3 (ipykernel)",
   "language": "python",
   "name": "python3"
  },
  "language_info": {
   "codemirror_mode": {
    "name": "ipython",
    "version": 3
   },
   "file_extension": ".py",
   "mimetype": "text/x-python",
   "name": "python",
   "nbconvert_exporter": "python",
   "pygments_lexer": "ipython3",
   "version": "3.9.13"
  },
  "papermill": {
   "default_parameters": {},
   "duration": 1133.217607,
   "end_time": "2024-01-23T08:19:17.506524",
   "environment_variables": {},
   "exception": null,
   "input_path": "__notebook__.ipynb",
   "output_path": "__notebook__.ipynb",
   "parameters": {},
   "start_time": "2024-01-23T08:00:24.288917",
   "version": "2.4.0"
  }
 },
 "nbformat": 4,
 "nbformat_minor": 5
}
