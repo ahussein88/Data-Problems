{
 "cells": [
  {
   "cell_type": "code",
   "execution_count": 22,
   "id": "ded46d69",
   "metadata": {
    "_cell_guid": "b1076dfc-b9ad-4769-8c92-a6c4dae69d19",
    "_uuid": "8f2839f25d086af736a60e9eeb907d3b93b6e0e5",
    "execution": {
     "iopub.execute_input": "2024-02-18T15:12:19.144987Z",
     "iopub.status.busy": "2024-02-18T15:12:19.144081Z",
     "iopub.status.idle": "2024-02-18T15:12:33.010882Z",
     "shell.execute_reply": "2024-02-18T15:12:33.009879Z"
    },
    "papermill": {
     "duration": 13.87801,
     "end_time": "2024-02-18T15:12:33.013207",
     "exception": false,
     "start_time": "2024-02-18T15:12:19.135197",
     "status": "completed"
    },
    "tags": []
   },
   "outputs": [],
   "source": [
    "import numpy as np # linear algebra\n",
    "import pandas as pd # data processing, CSV file I/O (e.g. pd.read_csv)\n",
    "from sklearn.model_selection import train_test_split, cross_val_score\n",
    "import matplotlib.pyplot as plt\n",
    "import seaborn as sns\n",
    "import warnings\n",
    "warnings.filterwarnings(\"ignore\")\n",
    "plt.style.use('ggplot')\n",
    "import os\n",
    "import plotly.express as px\n",
    "import plotly.subplots as ps\n",
    "from sklearn.metrics import classification_report\n",
    "from sklearn.ensemble import ExtraTreesClassifier\n",
    "from keras.utils import to_categorical, plot_model"
   ]
  },
  {
   "cell_type": "code",
   "execution_count": 23,
   "id": "e6122df2",
   "metadata": {
    "execution": {
     "iopub.execute_input": "2024-02-18T15:12:33.028570Z",
     "iopub.status.busy": "2024-02-18T15:12:33.027951Z",
     "iopub.status.idle": "2024-02-18T15:12:33.069828Z",
     "shell.execute_reply": "2024-02-18T15:12:33.068826Z"
    },
    "papermill": {
     "duration": 0.051665,
     "end_time": "2024-02-18T15:12:33.071969",
     "exception": false,
     "start_time": "2024-02-18T15:12:33.020304",
     "status": "completed"
    },
    "tags": []
   },
   "outputs": [],
   "source": [
    "train_data = pd.read_csv('/Users/abdihussein/Downloads/train.csv', sep = ',')\n",
    "test_data = pd.read_csv('/Users/abdihussein/Downloads/test.csv', sep = ',')\n",
    "#pd.set_option( \"display.max_columns\", None)\n",
    "\n",
    "#pd.read_csv('/Users/abdihussein/Downloads/playground-series-s3e22/train.csv', sep=',',header=None)\n",
    "\n"
   ]
  },
  {
   "cell_type": "code",
   "execution_count": 3,
   "id": "8958bf82",
   "metadata": {
    "execution": {
     "iopub.execute_input": "2024-02-18T15:12:33.086681Z",
     "iopub.status.busy": "2024-02-18T15:12:33.086400Z",
     "iopub.status.idle": "2024-02-18T15:12:33.098750Z",
     "shell.execute_reply": "2024-02-18T15:12:33.098014Z"
    },
    "papermill": {
     "duration": 0.0217,
     "end_time": "2024-02-18T15:12:33.100555",
     "exception": false,
     "start_time": "2024-02-18T15:12:33.078855",
     "status": "completed"
    },
    "tags": []
   },
   "outputs": [],
   "source": [
    "train_data = train_data[train_data.columns[1:]] # Remove id in Data table\n",
    "test_data = test_data[test_data.columns[1:]] # Remove id in Data table"
   ]
  },
  {
   "cell_type": "code",
   "execution_count": 4,
   "id": "4817d6fb",
   "metadata": {
    "execution": {
     "iopub.execute_input": "2024-02-18T15:12:33.115021Z",
     "iopub.status.busy": "2024-02-18T15:12:33.114738Z",
     "iopub.status.idle": "2024-02-18T15:12:33.120626Z",
     "shell.execute_reply": "2024-02-18T15:12:33.119959Z"
    },
    "papermill": {
     "duration": 0.015101,
     "end_time": "2024-02-18T15:12:33.122418",
     "exception": false,
     "start_time": "2024-02-18T15:12:33.107317",
     "status": "completed"
    },
    "tags": []
   },
   "outputs": [],
   "source": [
    "numeric_train = train_data.select_dtypes(include=['float'])\n",
    "Classify_train = train_data.select_dtypes(exclude = ['float'])\n",
    "\n",
    "numeric_test = test_data.select_dtypes(include =('float'))\n",
    "Classify_test = test_data.select_dtypes(exclude = ['float'])"
   ]
  },
  {
   "cell_type": "code",
   "execution_count": 5,
   "id": "ff43fab5",
   "metadata": {
    "execution": {
     "iopub.execute_input": "2024-02-18T15:12:33.136742Z",
     "iopub.status.busy": "2024-02-18T15:12:33.136477Z",
     "iopub.status.idle": "2024-02-18T15:12:33.152087Z",
     "shell.execute_reply": "2024-02-18T15:12:33.151269Z"
    },
    "papermill": {
     "duration": 0.024998,
     "end_time": "2024-02-18T15:12:33.154010",
     "exception": false,
     "start_time": "2024-02-18T15:12:33.129012",
     "status": "completed"
    },
    "tags": []
   },
   "outputs": [
    {
     "data": {
      "text/plain": [
       "age                        2\n",
       "hospital_number          255\n",
       "temp_of_extremities        5\n",
       "peripheral_pulse           5\n",
       "mucous_membrane            7\n",
       "capillary_refill_time      4\n",
       "pain                       7\n",
       "peristalsis                6\n",
       "abdominal_distention       5\n",
       "nasogastric_tube           4\n",
       "nasogastric_reflux         5\n",
       "rectal_exam_feces          6\n",
       "abdomen                    6\n",
       "abdomo_appearance          4\n",
       "surgical_lesion            2\n",
       "lesion_1                  57\n",
       "lesion_2                   4\n",
       "lesion_3                   2\n",
       "cp_data                    2\n",
       "outcome                    3\n",
       "dtype: int64"
      ]
     },
     "execution_count": 5,
     "metadata": {},
     "output_type": "execute_result"
    }
   ],
   "source": [
    "Classify_train [Classify_train .columns[1:]].nunique()"
   ]
  },
  {
   "cell_type": "code",
   "execution_count": 6,
   "id": "d647d9ea",
   "metadata": {
    "execution": {
     "iopub.execute_input": "2024-02-18T15:12:33.168805Z",
     "iopub.status.busy": "2024-02-18T15:12:33.168520Z",
     "iopub.status.idle": "2024-02-18T15:12:33.174466Z",
     "shell.execute_reply": "2024-02-18T15:12:33.173651Z"
    },
    "papermill": {
     "duration": 0.015551,
     "end_time": "2024-02-18T15:12:33.176351",
     "exception": false,
     "start_time": "2024-02-18T15:12:33.160800",
     "status": "completed"
    },
    "tags": []
   },
   "outputs": [],
   "source": [
    "Classify_train = Classify_train.drop(\"hospital_number\",axis = 1)\n",
    "Classify_test = Classify_test.drop(\"hospital_number\",axis = 1)"
   ]
  },
  {
   "cell_type": "code",
   "execution_count": 7,
   "id": "94891d6d",
   "metadata": {
    "execution": {
     "iopub.execute_input": "2024-02-18T15:12:33.191007Z",
     "iopub.status.busy": "2024-02-18T15:12:33.190742Z",
     "iopub.status.idle": "2024-02-18T15:12:33.201121Z",
     "shell.execute_reply": "2024-02-18T15:12:33.200267Z"
    },
    "papermill": {
     "duration": 0.019943,
     "end_time": "2024-02-18T15:12:33.203139",
     "exception": false,
     "start_time": "2024-02-18T15:12:33.183196",
     "status": "completed"
    },
    "tags": []
   },
   "outputs": [],
   "source": [
    "Classify_train = Classify_train.fillna(\"unknown\")\n",
    "Classify_test = Classify_test.fillna(\"unknown\")"
   ]
  },
  {
   "cell_type": "code",
   "execution_count": 8,
   "id": "6bb89767",
   "metadata": {
    "execution": {
     "iopub.execute_input": "2024-02-18T15:12:33.218117Z",
     "iopub.status.busy": "2024-02-18T15:12:33.217367Z",
     "iopub.status.idle": "2024-02-18T15:12:33.234403Z",
     "shell.execute_reply": "2024-02-18T15:12:33.233642Z"
    },
    "papermill": {
     "duration": 0.026602,
     "end_time": "2024-02-18T15:12:33.236431",
     "exception": false,
     "start_time": "2024-02-18T15:12:33.209829",
     "status": "completed"
    },
    "tags": []
   },
   "outputs": [],
   "source": [
    "Classify_train['Count'] = 1\n",
    "Classify_train_dpone = Classify_train.drop('lesion_1',axis = 1)\n",
    "Analysis_class = pd.get_dummies(Classify_train_dpone, columns = ['outcome'])\n",
    "Analysis_class = Analysis_class.rename(columns = {'outcome_died' : 'died', 'outcome_euthanized' : 'euthanized', 'outcome_lived' : 'lived'})\n",
    "\n",
    "dict_outcome = {True : 1, False : 0 }\n",
    "for col in Analysis_class.columns[-3:]:\n",
    "    Analysis_class[col] = Analysis_class[col].replace(dict_outcome)"
   ]
  },
  {
   "cell_type": "code",
   "execution_count": 9,
   "id": "5fe9728e",
   "metadata": {
    "execution": {
     "iopub.execute_input": "2024-02-18T15:12:33.251684Z",
     "iopub.status.busy": "2024-02-18T15:12:33.251216Z",
     "iopub.status.idle": "2024-02-18T15:12:33.259269Z",
     "shell.execute_reply": "2024-02-18T15:12:33.258490Z"
    },
    "papermill": {
     "duration": 0.017768,
     "end_time": "2024-02-18T15:12:33.261161",
     "exception": false,
     "start_time": "2024-02-18T15:12:33.243393",
     "status": "completed"
    },
    "tags": []
   },
   "outputs": [],
   "source": [
    "def plot_stack_bar(col):\n",
    "    col_gp =Analysis_class.groupby(col).sum()\n",
    "    col_gp['dead_rate'] = col_gp['died'] / col_gp['Count']\n",
    "    col_gp['euthanized_rate'] = col_gp['euthanized'] / col_gp['Count']\n",
    "    col_gp['lived_rate'] = col_gp['lived'] / col_gp['Count']\n",
    "    fig_1 = px.bar(col_gp, x=col_gp.index, y=['dead_rate','euthanized_rate','lived_rate'], title=f\"The {col} of stack bar in Percent\",width=400, height=600)\n",
    "    fig_2 = px.bar(col_gp, x=col_gp.index, y=['died','euthanized','lived'], labels={'value':'Count'}, title=f\"The {col} of stack bar in Count\",width=400, height=600)\n",
    "    fig = ps.make_subplots(rows=1, cols=2,subplot_titles=(f'The {col} of outcome in Percent',f'The {col} of outcome in Count'))\n",
    "    for i in range(3):\n",
    "        fig.add_trace(fig_1.data[i], row=1, col=1)\n",
    "        fig.add_trace(fig_2.data[i], row=1, col=2)\n",
    "    fig.show()\n",
    "    return fig"
   ]
  },
  {
   "cell_type": "code",
   "execution_count": 10,
   "id": "943167c0",
   "metadata": {
    "execution": {
     "iopub.execute_input": "2024-02-18T15:12:33.276968Z",
     "iopub.status.busy": "2024-02-18T15:12:33.276501Z",
     "iopub.status.idle": "2024-02-18T15:12:33.302055Z",
     "shell.execute_reply": "2024-02-18T15:12:33.301225Z"
    },
    "papermill": {
     "duration": 0.035251,
     "end_time": "2024-02-18T15:12:33.304139",
     "exception": false,
     "start_time": "2024-02-18T15:12:33.268888",
     "status": "completed"
    },
    "tags": []
   },
   "outputs": [
    {
     "data": {
      "text/html": [
       "<div>\n",
       "<style scoped>\n",
       "    .dataframe tbody tr th:only-of-type {\n",
       "        vertical-align: middle;\n",
       "    }\n",
       "\n",
       "    .dataframe tbody tr th {\n",
       "        vertical-align: top;\n",
       "    }\n",
       "\n",
       "    .dataframe thead th {\n",
       "        text-align: right;\n",
       "    }\n",
       "</style>\n",
       "<table border=\"1\" class=\"dataframe\">\n",
       "  <thead>\n",
       "    <tr style=\"text-align: right;\">\n",
       "      <th></th>\n",
       "      <th>rectal_temp</th>\n",
       "      <th>pulse</th>\n",
       "      <th>respiratory_rate</th>\n",
       "      <th>nasogastric_reflux_ph</th>\n",
       "      <th>packed_cell_volume</th>\n",
       "      <th>total_protein</th>\n",
       "      <th>abdomo_protein</th>\n",
       "      <th>Count</th>\n",
       "      <th>died</th>\n",
       "      <th>euthanized</th>\n",
       "      <th>lived</th>\n",
       "    </tr>\n",
       "  </thead>\n",
       "  <tbody>\n",
       "    <tr>\n",
       "      <th>0</th>\n",
       "      <td>38.1</td>\n",
       "      <td>132.0</td>\n",
       "      <td>24.0</td>\n",
       "      <td>6.5</td>\n",
       "      <td>57.0</td>\n",
       "      <td>8.5</td>\n",
       "      <td>3.4</td>\n",
       "      <td>1</td>\n",
       "      <td>1</td>\n",
       "      <td>0</td>\n",
       "      <td>0</td>\n",
       "    </tr>\n",
       "    <tr>\n",
       "      <th>1</th>\n",
       "      <td>37.5</td>\n",
       "      <td>88.0</td>\n",
       "      <td>12.0</td>\n",
       "      <td>2.0</td>\n",
       "      <td>33.0</td>\n",
       "      <td>64.0</td>\n",
       "      <td>2.0</td>\n",
       "      <td>1</td>\n",
       "      <td>0</td>\n",
       "      <td>1</td>\n",
       "      <td>0</td>\n",
       "    </tr>\n",
       "    <tr>\n",
       "      <th>2</th>\n",
       "      <td>38.3</td>\n",
       "      <td>120.0</td>\n",
       "      <td>28.0</td>\n",
       "      <td>3.5</td>\n",
       "      <td>37.0</td>\n",
       "      <td>6.4</td>\n",
       "      <td>3.4</td>\n",
       "      <td>1</td>\n",
       "      <td>0</td>\n",
       "      <td>0</td>\n",
       "      <td>1</td>\n",
       "    </tr>\n",
       "    <tr>\n",
       "      <th>3</th>\n",
       "      <td>37.1</td>\n",
       "      <td>72.0</td>\n",
       "      <td>30.0</td>\n",
       "      <td>2.0</td>\n",
       "      <td>53.0</td>\n",
       "      <td>7.0</td>\n",
       "      <td>3.9</td>\n",
       "      <td>1</td>\n",
       "      <td>0</td>\n",
       "      <td>0</td>\n",
       "      <td>1</td>\n",
       "    </tr>\n",
       "    <tr>\n",
       "      <th>4</th>\n",
       "      <td>38.0</td>\n",
       "      <td>52.0</td>\n",
       "      <td>48.0</td>\n",
       "      <td>7.0</td>\n",
       "      <td>47.0</td>\n",
       "      <td>7.3</td>\n",
       "      <td>2.6</td>\n",
       "      <td>1</td>\n",
       "      <td>0</td>\n",
       "      <td>0</td>\n",
       "      <td>1</td>\n",
       "    </tr>\n",
       "    <tr>\n",
       "      <th>...</th>\n",
       "      <td>...</td>\n",
       "      <td>...</td>\n",
       "      <td>...</td>\n",
       "      <td>...</td>\n",
       "      <td>...</td>\n",
       "      <td>...</td>\n",
       "      <td>...</td>\n",
       "      <td>...</td>\n",
       "      <td>...</td>\n",
       "      <td>...</td>\n",
       "      <td>...</td>\n",
       "    </tr>\n",
       "    <tr>\n",
       "      <th>1230</th>\n",
       "      <td>38.5</td>\n",
       "      <td>129.0</td>\n",
       "      <td>48.0</td>\n",
       "      <td>2.0</td>\n",
       "      <td>57.0</td>\n",
       "      <td>66.0</td>\n",
       "      <td>2.0</td>\n",
       "      <td>1</td>\n",
       "      <td>0</td>\n",
       "      <td>0</td>\n",
       "      <td>1</td>\n",
       "    </tr>\n",
       "    <tr>\n",
       "      <th>1231</th>\n",
       "      <td>37.5</td>\n",
       "      <td>60.0</td>\n",
       "      <td>50.0</td>\n",
       "      <td>3.0</td>\n",
       "      <td>35.0</td>\n",
       "      <td>6.4</td>\n",
       "      <td>3.6</td>\n",
       "      <td>1</td>\n",
       "      <td>1</td>\n",
       "      <td>0</td>\n",
       "      <td>0</td>\n",
       "    </tr>\n",
       "    <tr>\n",
       "      <th>1232</th>\n",
       "      <td>37.5</td>\n",
       "      <td>84.0</td>\n",
       "      <td>40.0</td>\n",
       "      <td>3.0</td>\n",
       "      <td>40.0</td>\n",
       "      <td>5.9</td>\n",
       "      <td>7.0</td>\n",
       "      <td>1</td>\n",
       "      <td>0</td>\n",
       "      <td>0</td>\n",
       "      <td>1</td>\n",
       "    </tr>\n",
       "    <tr>\n",
       "      <th>1233</th>\n",
       "      <td>38.1</td>\n",
       "      <td>70.0</td>\n",
       "      <td>16.0</td>\n",
       "      <td>2.0</td>\n",
       "      <td>58.0</td>\n",
       "      <td>74.0</td>\n",
       "      <td>2.0</td>\n",
       "      <td>1</td>\n",
       "      <td>0</td>\n",
       "      <td>0</td>\n",
       "      <td>1</td>\n",
       "    </tr>\n",
       "    <tr>\n",
       "      <th>1234</th>\n",
       "      <td>38.1</td>\n",
       "      <td>54.0</td>\n",
       "      <td>36.0</td>\n",
       "      <td>3.0</td>\n",
       "      <td>45.0</td>\n",
       "      <td>6.0</td>\n",
       "      <td>3.6</td>\n",
       "      <td>1</td>\n",
       "      <td>0</td>\n",
       "      <td>0</td>\n",
       "      <td>1</td>\n",
       "    </tr>\n",
       "  </tbody>\n",
       "</table>\n",
       "<p>1235 rows × 11 columns</p>\n",
       "</div>"
      ],
      "text/plain": [
       "      rectal_temp  pulse  respiratory_rate  nasogastric_reflux_ph  \\\n",
       "0            38.1  132.0              24.0                    6.5   \n",
       "1            37.5   88.0              12.0                    2.0   \n",
       "2            38.3  120.0              28.0                    3.5   \n",
       "3            37.1   72.0              30.0                    2.0   \n",
       "4            38.0   52.0              48.0                    7.0   \n",
       "...           ...    ...               ...                    ...   \n",
       "1230         38.5  129.0              48.0                    2.0   \n",
       "1231         37.5   60.0              50.0                    3.0   \n",
       "1232         37.5   84.0              40.0                    3.0   \n",
       "1233         38.1   70.0              16.0                    2.0   \n",
       "1234         38.1   54.0              36.0                    3.0   \n",
       "\n",
       "      packed_cell_volume  total_protein  abdomo_protein  Count  died  \\\n",
       "0                   57.0            8.5             3.4      1     1   \n",
       "1                   33.0           64.0             2.0      1     0   \n",
       "2                   37.0            6.4             3.4      1     0   \n",
       "3                   53.0            7.0             3.9      1     0   \n",
       "4                   47.0            7.3             2.6      1     0   \n",
       "...                  ...            ...             ...    ...   ...   \n",
       "1230                57.0           66.0             2.0      1     0   \n",
       "1231                35.0            6.4             3.6      1     1   \n",
       "1232                40.0            5.9             7.0      1     0   \n",
       "1233                58.0           74.0             2.0      1     0   \n",
       "1234                45.0            6.0             3.6      1     0   \n",
       "\n",
       "      euthanized  lived  \n",
       "0              0      0  \n",
       "1              1      0  \n",
       "2              0      1  \n",
       "3              0      1  \n",
       "4              0      1  \n",
       "...          ...    ...  \n",
       "1230           0      1  \n",
       "1231           0      0  \n",
       "1232           0      1  \n",
       "1233           0      1  \n",
       "1234           0      1  \n",
       "\n",
       "[1235 rows x 11 columns]"
      ]
     },
     "execution_count": 10,
     "metadata": {},
     "output_type": "execute_result"
    }
   ],
   "source": [
    "numeric_ot_train = pd.concat([numeric_train, Analysis_class[Analysis_class.columns[-4:]]],axis = 1)\n",
    "numeric_ot_train"
   ]
  },
  {
   "cell_type": "code",
   "execution_count": 11,
   "id": "a78b9892",
   "metadata": {
    "execution": {
     "iopub.execute_input": "2024-02-18T15:12:33.319850Z",
     "iopub.status.busy": "2024-02-18T15:12:33.319376Z",
     "iopub.status.idle": "2024-02-18T15:12:33.325830Z",
     "shell.execute_reply": "2024-02-18T15:12:33.325038Z"
    },
    "papermill": {
     "duration": 0.016306,
     "end_time": "2024-02-18T15:12:33.327692",
     "exception": false,
     "start_time": "2024-02-18T15:12:33.311386",
     "status": "completed"
    },
    "tags": []
   },
   "outputs": [],
   "source": [
    "def numeric_plot(col):\n",
    "    fig_name = col\n",
    "    fig_name, axes = plt.subplots(1,1, figsize=(5,5))\n",
    "    sns.distplot(numeric_ot_train[numeric_ot_train['died'] == 1][col], norm_hist = True, color = 'r', label = 'Die')\n",
    "    sns.distplot(numeric_ot_train[numeric_ot_train['euthanized'] == 1][col],  norm_hist = True, color = 'y', label = 'Euthanized')\n",
    "    sns.distplot(numeric_ot_train[numeric_ot_train['lived'] == 1][col], norm_hist = True, color = 'g', label = 'Lived')\n",
    "    axes.set_title(f'The Distribution of {col} with Outcome ')\n",
    "    axes.legend()\n",
    "    return fig_name"
   ]
  },
  {
   "cell_type": "code",
   "execution_count": 12,
   "id": "4e1618d1",
   "metadata": {
    "execution": {
     "iopub.execute_input": "2024-02-18T15:12:33.343239Z",
     "iopub.status.busy": "2024-02-18T15:12:33.342680Z",
     "iopub.status.idle": "2024-02-18T15:12:33.347604Z",
     "shell.execute_reply": "2024-02-18T15:12:33.346905Z"
    },
    "papermill": {
     "duration": 0.014629,
     "end_time": "2024-02-18T15:12:33.349484",
     "exception": false,
     "start_time": "2024-02-18T15:12:33.334855",
     "status": "completed"
    },
    "tags": []
   },
   "outputs": [],
   "source": [
    "Classify_train_data = Classify_train.drop(columns = ['Count','outcome'])\n",
    "Classify_test_data = Classify_test\n",
    "target_outcome = Classify_train['outcome']"
   ]
  },
  {
   "cell_type": "code",
   "execution_count": 13,
   "id": "6e794966",
   "metadata": {
    "execution": {
     "iopub.execute_input": "2024-02-18T15:12:33.365294Z",
     "iopub.status.busy": "2024-02-18T15:12:33.364724Z",
     "iopub.status.idle": "2024-02-18T15:12:33.397125Z",
     "shell.execute_reply": "2024-02-18T15:12:33.396153Z"
    },
    "papermill": {
     "duration": 0.042586,
     "end_time": "2024-02-18T15:12:33.399159",
     "exception": false,
     "start_time": "2024-02-18T15:12:33.356573",
     "status": "completed"
    },
    "tags": []
   },
   "outputs": [
    {
     "name": "stdout",
     "output_type": "stream",
     "text": [
      "The Classify train data shape : (1235, 135)\n",
      "The Classify test data shape : (824, 135)\n"
     ]
    }
   ],
   "source": [
    "from sklearn.preprocessing import OneHotEncoder, LabelEncoder\n",
    "Normal_target = LabelEncoder()\n",
    "target= Normal_target.fit_transform(target_outcome)\n",
    "\n",
    "Class_enc = OneHotEncoder(handle_unknown = 'ignore')\n",
    "C_train_data = Class_enc.fit_transform(Classify_train_data).toarray()\n",
    "C_test_data = Class_enc.transform(Classify_test_data).toarray() \n",
    "print(f'The Classify train data shape : {C_train_data .shape}')\n",
    "print(f'The Classify test data shape : {C_test_data .shape}')"
   ]
  },
  {
   "cell_type": "code",
   "execution_count": 14,
   "id": "87bf4d41",
   "metadata": {
    "execution": {
     "iopub.execute_input": "2024-02-18T15:12:33.416220Z",
     "iopub.status.busy": "2024-02-18T15:12:33.415881Z",
     "iopub.status.idle": "2024-02-18T15:12:33.420654Z",
     "shell.execute_reply": "2024-02-18T15:12:33.419808Z"
    },
    "papermill": {
     "duration": 0.015969,
     "end_time": "2024-02-18T15:12:33.422643",
     "exception": false,
     "start_time": "2024-02-18T15:12:33.406674",
     "status": "completed"
    },
    "tags": []
   },
   "outputs": [
    {
     "name": "stdout",
     "output_type": "stream",
     "text": [
      "The Numeric train data shape : (1235, 7)\n",
      "The Numeric test data shape : (824, 7)\n"
     ]
    }
   ],
   "source": [
    "N_train_data = numeric_train.to_numpy()\n",
    "N_test_data = numeric_test.to_numpy()\n",
    "print(f'The Numeric train data shape : {N_train_data.shape}')\n",
    "print(f'The Numeric test data shape : {N_test_data.shape}')"
   ]
  },
  {
   "cell_type": "code",
   "execution_count": 15,
   "id": "aa353fd8",
   "metadata": {
    "execution": {
     "iopub.execute_input": "2024-02-18T15:12:33.438231Z",
     "iopub.status.busy": "2024-02-18T15:12:33.437942Z",
     "iopub.status.idle": "2024-02-18T15:12:33.444592Z",
     "shell.execute_reply": "2024-02-18T15:12:33.443777Z"
    },
    "papermill": {
     "duration": 0.016579,
     "end_time": "2024-02-18T15:12:33.446439",
     "exception": false,
     "start_time": "2024-02-18T15:12:33.429860",
     "status": "completed"
    },
    "tags": []
   },
   "outputs": [
    {
     "name": "stdout",
     "output_type": "stream",
     "text": [
      " The Classify + Numeric train data of shape : (1235, 142)\n",
      " The Classify + Numeric test data of shape : (824, 142)\n"
     ]
    }
   ],
   "source": [
    "CN_train_data = np.concatenate([C_train_data,N_train_data], axis = 1)\n",
    "CN_test_data = np.concatenate([C_test_data, N_test_data], axis = 1)\n",
    "print(f' The Classify + Numeric train data of shape : {CN_train_data.shape}')\n",
    "print(f' The Classify + Numeric test data of shape : {CN_test_data.shape}')"
   ]
  },
  {
   "cell_type": "code",
   "execution_count": 16,
   "id": "cae9b7be",
   "metadata": {
    "execution": {
     "iopub.execute_input": "2024-02-18T15:12:33.462340Z",
     "iopub.status.busy": "2024-02-18T15:12:33.461880Z",
     "iopub.status.idle": "2024-02-18T15:12:33.468719Z",
     "shell.execute_reply": "2024-02-18T15:12:33.468053Z"
    },
    "papermill": {
     "duration": 0.016666,
     "end_time": "2024-02-18T15:12:33.470457",
     "exception": false,
     "start_time": "2024-02-18T15:12:33.453791",
     "status": "completed"
    },
    "tags": []
   },
   "outputs": [],
   "source": [
    "from sklearn.model_selection import train_test_split\n",
    "\n",
    "#fOR Classify\n",
    "x_trainC, x_testC, y_trainC, y_testC = train_test_split(C_train_data, target, train_size = 0.8, random_state = 0)\n",
    "\n",
    "y_trainC = to_categorical(y_trainC)\n",
    "\n",
    "#For Numeric\n",
    "x_trainN, x_testN, y_trainN, y_testN = train_test_split(N_train_data, target, train_size = 0.8, random_state = 0)\n",
    "\n",
    "y_trainN = to_categorical(y_trainN)"
   ]
  },
  {
   "cell_type": "code",
   "execution_count": 17,
   "id": "cb006e38",
   "metadata": {
    "execution": {
     "iopub.execute_input": "2024-02-18T15:12:33.486602Z",
     "iopub.status.busy": "2024-02-18T15:12:33.485896Z",
     "iopub.status.idle": "2024-02-18T15:12:40.467249Z",
     "shell.execute_reply": "2024-02-18T15:12:40.466410Z"
    },
    "papermill": {
     "duration": 6.991309,
     "end_time": "2024-02-18T15:12:40.469135",
     "exception": false,
     "start_time": "2024-02-18T15:12:33.477826",
     "status": "completed"
    },
    "tags": []
   },
   "outputs": [
    {
     "name": "stdout",
     "output_type": "stream",
     "text": [
      "Epoch 1/50\n",
      "\u001b[1m4/4\u001b[0m \u001b[32m━━━━━━━━━━━━━━━━━━━━\u001b[0m\u001b[37m\u001b[0m \u001b[1m3s\u001b[0m 107ms/step - accuracy: 0.2460 - loss: 4.7955 - val_accuracy: 0.2778 - val_loss: 2.6602\n",
      "Epoch 2/50\n",
      "\u001b[1m4/4\u001b[0m \u001b[32m━━━━━━━━━━━━━━━━━━━━\u001b[0m\u001b[37m\u001b[0m \u001b[1m0s\u001b[0m 20ms/step - accuracy: 0.2757 - loss: 2.6775 - val_accuracy: 0.3434 - val_loss: 2.3752\n",
      "Epoch 3/50\n",
      "\u001b[1m4/4\u001b[0m \u001b[32m━━━━━━━━━━━━━━━━━━━━\u001b[0m\u001b[37m\u001b[0m \u001b[1m0s\u001b[0m 21ms/step - accuracy: 0.3141 - loss: 2.6199 - val_accuracy: 0.3283 - val_loss: 2.0300\n",
      "Epoch 4/50\n",
      "\u001b[1m4/4\u001b[0m \u001b[32m━━━━━━━━━━━━━━━━━━━━\u001b[0m\u001b[37m\u001b[0m \u001b[1m0s\u001b[0m 21ms/step - accuracy: 0.3424 - loss: 2.1445 - val_accuracy: 0.3232 - val_loss: 1.7855\n",
      "Epoch 5/50\n",
      "\u001b[1m4/4\u001b[0m \u001b[32m━━━━━━━━━━━━━━━━━━━━\u001b[0m\u001b[37m\u001b[0m \u001b[1m0s\u001b[0m 20ms/step - accuracy: 0.3716 - loss: 1.8661 - val_accuracy: 0.3182 - val_loss: 1.6550\n",
      "Epoch 6/50\n",
      "\u001b[1m4/4\u001b[0m \u001b[32m━━━━━━━━━━━━━━━━━━━━\u001b[0m\u001b[37m\u001b[0m \u001b[1m0s\u001b[0m 21ms/step - accuracy: 0.4038 - loss: 1.6154 - val_accuracy: 0.3889 - val_loss: 1.4510\n",
      "Epoch 7/50\n",
      "\u001b[1m4/4\u001b[0m \u001b[32m━━━━━━━━━━━━━━━━━━━━\u001b[0m\u001b[37m\u001b[0m \u001b[1m0s\u001b[0m 22ms/step - accuracy: 0.4555 - loss: 1.3841 - val_accuracy: 0.4646 - val_loss: 1.2389\n",
      "Epoch 8/50\n",
      "\u001b[1m4/4\u001b[0m \u001b[32m━━━━━━━━━━━━━━━━━━━━\u001b[0m\u001b[37m\u001b[0m \u001b[1m0s\u001b[0m 20ms/step - accuracy: 0.5175 - loss: 1.2133 - val_accuracy: 0.5051 - val_loss: 1.1311\n",
      "Epoch 9/50\n",
      "\u001b[1m4/4\u001b[0m \u001b[32m━━━━━━━━━━━━━━━━━━━━\u001b[0m\u001b[37m\u001b[0m \u001b[1m0s\u001b[0m 27ms/step - accuracy: 0.5515 - loss: 1.1306 - val_accuracy: 0.5354 - val_loss: 1.0453\n",
      "Epoch 10/50\n",
      "\u001b[1m4/4\u001b[0m \u001b[32m━━━━━━━━━━━━━━━━━━━━\u001b[0m\u001b[37m\u001b[0m \u001b[1m0s\u001b[0m 20ms/step - accuracy: 0.5657 - loss: 1.0491 - val_accuracy: 0.5606 - val_loss: 0.9896\n",
      "Epoch 11/50\n",
      "\u001b[1m4/4\u001b[0m \u001b[32m━━━━━━━━━━━━━━━━━━━━\u001b[0m\u001b[37m\u001b[0m \u001b[1m0s\u001b[0m 21ms/step - accuracy: 0.5993 - loss: 0.9285 - val_accuracy: 0.5707 - val_loss: 0.9717\n",
      "Epoch 12/50\n",
      "\u001b[1m4/4\u001b[0m \u001b[32m━━━━━━━━━━━━━━━━━━━━\u001b[0m\u001b[37m\u001b[0m \u001b[1m0s\u001b[0m 27ms/step - accuracy: 0.5865 - loss: 0.9624 - val_accuracy: 0.6010 - val_loss: 0.9406\n",
      "Epoch 13/50\n",
      "\u001b[1m4/4\u001b[0m \u001b[32m━━━━━━━━━━━━━━━━━━━━\u001b[0m\u001b[37m\u001b[0m \u001b[1m0s\u001b[0m 19ms/step - accuracy: 0.6072 - loss: 0.8803 - val_accuracy: 0.6010 - val_loss: 0.9293\n",
      "Epoch 14/50\n",
      "\u001b[1m4/4\u001b[0m \u001b[32m━━━━━━━━━━━━━━━━━━━━\u001b[0m\u001b[37m\u001b[0m \u001b[1m0s\u001b[0m 20ms/step - accuracy: 0.6109 - loss: 0.8497 - val_accuracy: 0.6061 - val_loss: 0.8869\n",
      "Epoch 15/50\n",
      "\u001b[1m4/4\u001b[0m \u001b[32m━━━━━━━━━━━━━━━━━━━━\u001b[0m\u001b[37m\u001b[0m \u001b[1m0s\u001b[0m 22ms/step - accuracy: 0.6439 - loss: 0.8283 - val_accuracy: 0.6162 - val_loss: 0.8704\n",
      "Epoch 16/50\n",
      "\u001b[1m4/4\u001b[0m \u001b[32m━━━━━━━━━━━━━━━━━━━━\u001b[0m\u001b[37m\u001b[0m \u001b[1m0s\u001b[0m 21ms/step - accuracy: 0.6672 - loss: 0.7902 - val_accuracy: 0.6263 - val_loss: 0.8426\n",
      "Epoch 17/50\n",
      "\u001b[1m4/4\u001b[0m \u001b[32m━━━━━━━━━━━━━━━━━━━━\u001b[0m\u001b[37m\u001b[0m \u001b[1m0s\u001b[0m 21ms/step - accuracy: 0.6751 - loss: 0.7464 - val_accuracy: 0.6465 - val_loss: 0.8302\n",
      "Epoch 18/50\n",
      "\u001b[1m4/4\u001b[0m \u001b[32m━━━━━━━━━━━━━━━━━━━━\u001b[0m\u001b[37m\u001b[0m \u001b[1m0s\u001b[0m 22ms/step - accuracy: 0.6872 - loss: 0.7087 - val_accuracy: 0.6566 - val_loss: 0.8021\n",
      "Epoch 19/50\n",
      "\u001b[1m4/4\u001b[0m \u001b[32m━━━━━━━━━━━━━━━━━━━━\u001b[0m\u001b[37m\u001b[0m \u001b[1m0s\u001b[0m 21ms/step - accuracy: 0.7014 - loss: 0.7016 - val_accuracy: 0.6515 - val_loss: 0.7882\n",
      "Epoch 20/50\n",
      "\u001b[1m4/4\u001b[0m \u001b[32m━━━━━━━━━━━━━━━━━━━━\u001b[0m\u001b[37m\u001b[0m \u001b[1m0s\u001b[0m 20ms/step - accuracy: 0.7140 - loss: 0.6709 - val_accuracy: 0.6465 - val_loss: 0.7785\n",
      "Epoch 21/50\n",
      "\u001b[1m4/4\u001b[0m \u001b[32m━━━━━━━━━━━━━━━━━━━━\u001b[0m\u001b[37m\u001b[0m \u001b[1m0s\u001b[0m 22ms/step - accuracy: 0.7196 - loss: 0.6496 - val_accuracy: 0.6414 - val_loss: 0.7891\n",
      "Epoch 22/50\n",
      "\u001b[1m4/4\u001b[0m \u001b[32m━━━━━━━━━━━━━━━━━━━━\u001b[0m\u001b[37m\u001b[0m \u001b[1m0s\u001b[0m 20ms/step - accuracy: 0.7281 - loss: 0.6274 - val_accuracy: 0.6566 - val_loss: 0.7846\n",
      "Epoch 23/50\n",
      "\u001b[1m4/4\u001b[0m \u001b[32m━━━━━━━━━━━━━━━━━━━━\u001b[0m\u001b[37m\u001b[0m \u001b[1m0s\u001b[0m 21ms/step - accuracy: 0.7432 - loss: 0.6044 - val_accuracy: 0.6566 - val_loss: 0.7711\n",
      "Epoch 24/50\n",
      "\u001b[1m4/4\u001b[0m \u001b[32m━━━━━━━━━━━━━━━━━━━━\u001b[0m\u001b[37m\u001b[0m \u001b[1m0s\u001b[0m 19ms/step - accuracy: 0.7516 - loss: 0.5785 - val_accuracy: 0.6414 - val_loss: 0.7755\n",
      "Epoch 25/50\n",
      "\u001b[1m4/4\u001b[0m \u001b[32m━━━━━━━━━━━━━━━━━━━━\u001b[0m\u001b[37m\u001b[0m \u001b[1m0s\u001b[0m 22ms/step - accuracy: 0.7495 - loss: 0.5730 - val_accuracy: 0.6263 - val_loss: 0.7837\n",
      "Epoch 26/50\n",
      "\u001b[1m4/4\u001b[0m \u001b[32m━━━━━━━━━━━━━━━━━━━━\u001b[0m\u001b[37m\u001b[0m \u001b[1m0s\u001b[0m 20ms/step - accuracy: 0.7761 - loss: 0.5504 - val_accuracy: 0.6263 - val_loss: 0.7925\n",
      "Epoch 27/50\n",
      "\u001b[1m4/4\u001b[0m \u001b[32m━━━━━━━━━━━━━━━━━━━━\u001b[0m\u001b[37m\u001b[0m \u001b[1m0s\u001b[0m 30ms/step - accuracy: 0.7793 - loss: 0.5445 - val_accuracy: 0.6869 - val_loss: 0.7829\n",
      "Epoch 28/50\n",
      "\u001b[1m4/4\u001b[0m \u001b[32m━━━━━━━━━━━━━━━━━━━━\u001b[0m\u001b[37m\u001b[0m \u001b[1m0s\u001b[0m 19ms/step - accuracy: 0.7717 - loss: 0.5374 - val_accuracy: 0.6465 - val_loss: 0.7799\n",
      "Epoch 29/50\n",
      "\u001b[1m4/4\u001b[0m \u001b[32m━━━━━━━━━━━━━━━━━━━━\u001b[0m\u001b[37m\u001b[0m \u001b[1m0s\u001b[0m 22ms/step - accuracy: 0.8095 - loss: 0.4918 - val_accuracy: 0.6414 - val_loss: 0.8102\n",
      "Epoch 30/50\n",
      "\u001b[1m4/4\u001b[0m \u001b[32m━━━━━━━━━━━━━━━━━━━━\u001b[0m\u001b[37m\u001b[0m \u001b[1m0s\u001b[0m 20ms/step - accuracy: 0.8150 - loss: 0.4929 - val_accuracy: 0.6667 - val_loss: 0.7854\n",
      "Epoch 31/50\n",
      "\u001b[1m4/4\u001b[0m \u001b[32m━━━━━━━━━━━━━━━━━━━━\u001b[0m\u001b[37m\u001b[0m \u001b[1m0s\u001b[0m 20ms/step - accuracy: 0.7908 - loss: 0.4832 - val_accuracy: 0.6566 - val_loss: 0.7897\n",
      "Epoch 32/50\n",
      "\u001b[1m4/4\u001b[0m \u001b[32m━━━━━━━━━━━━━━━━━━━━\u001b[0m\u001b[37m\u001b[0m \u001b[1m0s\u001b[0m 19ms/step - accuracy: 0.8016 - loss: 0.4848 - val_accuracy: 0.6465 - val_loss: 0.8123\n",
      "Epoch 33/50\n",
      "\u001b[1m4/4\u001b[0m \u001b[32m━━━━━━━━━━━━━━━━━━━━\u001b[0m\u001b[37m\u001b[0m \u001b[1m0s\u001b[0m 34ms/step - accuracy: 0.8175 - loss: 0.4670 - val_accuracy: 0.6818 - val_loss: 0.7856\n",
      "Epoch 34/50\n",
      "\u001b[1m4/4\u001b[0m \u001b[32m━━━━━━━━━━━━━━━━━━━━\u001b[0m\u001b[37m\u001b[0m \u001b[1m0s\u001b[0m 21ms/step - accuracy: 0.8450 - loss: 0.4277 - val_accuracy: 0.6768 - val_loss: 0.8090\n",
      "Epoch 35/50\n",
      "\u001b[1m4/4\u001b[0m \u001b[32m━━━━━━━━━━━━━━━━━━━━\u001b[0m\u001b[37m\u001b[0m \u001b[1m0s\u001b[0m 21ms/step - accuracy: 0.8309 - loss: 0.4493 - val_accuracy: 0.6616 - val_loss: 0.8011\n",
      "Epoch 36/50\n",
      "\u001b[1m4/4\u001b[0m \u001b[32m━━━━━━━━━━━━━━━━━━━━\u001b[0m\u001b[37m\u001b[0m \u001b[1m0s\u001b[0m 19ms/step - accuracy: 0.8355 - loss: 0.4344 - val_accuracy: 0.6869 - val_loss: 0.8055\n",
      "Epoch 37/50\n",
      "\u001b[1m4/4\u001b[0m \u001b[32m━━━━━━━━━━━━━━━━━━━━\u001b[0m\u001b[37m\u001b[0m \u001b[1m0s\u001b[0m 23ms/step - accuracy: 0.8476 - loss: 0.4148 - val_accuracy: 0.6869 - val_loss: 0.8260\n",
      "Epoch 38/50\n",
      "\u001b[1m4/4\u001b[0m \u001b[32m━━━━━━━━━━━━━━━━━━━━\u001b[0m\u001b[37m\u001b[0m \u001b[1m0s\u001b[0m 20ms/step - accuracy: 0.8553 - loss: 0.4083 - val_accuracy: 0.6919 - val_loss: 0.7942\n",
      "Epoch 39/50\n",
      "\u001b[1m4/4\u001b[0m \u001b[32m━━━━━━━━━━━━━━━━━━━━\u001b[0m\u001b[37m\u001b[0m \u001b[1m0s\u001b[0m 20ms/step - accuracy: 0.8492 - loss: 0.3958 - val_accuracy: 0.6818 - val_loss: 0.8000\n",
      "Epoch 40/50\n",
      "\u001b[1m4/4\u001b[0m \u001b[32m━━━━━━━━━━━━━━━━━━━━\u001b[0m\u001b[37m\u001b[0m \u001b[1m0s\u001b[0m 44ms/step - accuracy: 0.8606 - loss: 0.3772 - val_accuracy: 0.6970 - val_loss: 0.8052\n",
      "Epoch 41/50\n",
      "\u001b[1m4/4\u001b[0m \u001b[32m━━━━━━━━━━━━━━━━━━━━\u001b[0m\u001b[37m\u001b[0m \u001b[1m0s\u001b[0m 31ms/step - accuracy: 0.8647 - loss: 0.3633 - val_accuracy: 0.6818 - val_loss: 0.8127\n",
      "Epoch 42/50\n",
      "\u001b[1m4/4\u001b[0m \u001b[32m━━━━━━━━━━━━━━━━━━━━\u001b[0m\u001b[37m\u001b[0m \u001b[1m0s\u001b[0m 31ms/step - accuracy: 0.8504 - loss: 0.3881 - val_accuracy: 0.6818 - val_loss: 0.8273\n",
      "Epoch 43/50\n",
      "\u001b[1m4/4\u001b[0m \u001b[32m━━━━━━━━━━━━━━━━━━━━\u001b[0m\u001b[37m\u001b[0m \u001b[1m0s\u001b[0m 28ms/step - accuracy: 0.8636 - loss: 0.3494 - val_accuracy: 0.6869 - val_loss: 0.8339\n",
      "Epoch 44/50\n",
      "\u001b[1m4/4\u001b[0m \u001b[32m━━━━━━━━━━━━━━━━━━━━\u001b[0m\u001b[37m\u001b[0m \u001b[1m0s\u001b[0m 29ms/step - accuracy: 0.8788 - loss: 0.3401 - val_accuracy: 0.6465 - val_loss: 0.9184\n",
      "Epoch 45/50\n",
      "\u001b[1m4/4\u001b[0m \u001b[32m━━━━━━━━━━━━━━━━━━━━\u001b[0m\u001b[37m\u001b[0m \u001b[1m0s\u001b[0m 39ms/step - accuracy: 0.8517 - loss: 0.3672 - val_accuracy: 0.6818 - val_loss: 0.8462\n",
      "Epoch 46/50\n",
      "\u001b[1m4/4\u001b[0m \u001b[32m━━━━━━━━━━━━━━━━━━━━\u001b[0m\u001b[37m\u001b[0m \u001b[1m0s\u001b[0m 41ms/step - accuracy: 0.8921 - loss: 0.3275 - val_accuracy: 0.7020 - val_loss: 0.8287\n",
      "Epoch 47/50\n",
      "\u001b[1m4/4\u001b[0m \u001b[32m━━━━━━━━━━━━━━━━━━━━\u001b[0m\u001b[37m\u001b[0m \u001b[1m0s\u001b[0m 31ms/step - accuracy: 0.8854 - loss: 0.3155 - val_accuracy: 0.6616 - val_loss: 0.8922\n",
      "Epoch 48/50\n",
      "\u001b[1m4/4\u001b[0m \u001b[32m━━━━━━━━━━━━━━━━━━━━\u001b[0m\u001b[37m\u001b[0m \u001b[1m0s\u001b[0m 28ms/step - accuracy: 0.8932 - loss: 0.3171 - val_accuracy: 0.6818 - val_loss: 0.8546\n",
      "Epoch 49/50\n",
      "\u001b[1m4/4\u001b[0m \u001b[32m━━━━━━━━━━━━━━━━━━━━\u001b[0m\u001b[37m\u001b[0m \u001b[1m0s\u001b[0m 23ms/step - accuracy: 0.9013 - loss: 0.2946 - val_accuracy: 0.6919 - val_loss: 0.8567\n",
      "Epoch 50/50\n",
      "\u001b[1m4/4\u001b[0m \u001b[32m━━━━━━━━━━━━━━━━━━━━\u001b[0m\u001b[37m\u001b[0m \u001b[1m0s\u001b[0m 27ms/step - accuracy: 0.8982 - loss: 0.2873 - val_accuracy: 0.6869 - val_loss: 0.8596\n"
     ]
    }
   ],
   "source": [
    "import keras\n",
    "from keras.layers import Input, Dense, Embedding, Concatenate, Flatten\n",
    "from keras.models import Model\n",
    "\n",
    "C_input = keras.Input(shape=(C_train_data.shape[1],))\n",
    "N_input = keras.Input(shape = (N_train_data.shape[1],))\n",
    "\n",
    "#Classify model\n",
    "C_hidden_1 = Dense(256,activation = 'relu')(C_input)\n",
    "C_hidden_2 = Dense(64,activation = \"relu\")(C_hidden_1)\n",
    "C_hidden_3 = Dense(16,activation = \"relu\")(C_hidden_2)\n",
    "\n",
    "#Numeric model\n",
    "N_hidden_1 = Dense(32,activation = 'relu')(N_input)\n",
    "N_hidden_2 = Dense(16, activation = 'relu')(N_hidden_1)\n",
    "\n",
    "#Concate\n",
    "CN_layer = Concatenate()([C_hidden_3,N_hidden_2])\n",
    "\n",
    "#Hidden layer for CN\n",
    "CN_layer_2 = Dense(8, activation = 'relu')(CN_layer)\n",
    "\n",
    "#Output layer\n",
    "CN_output = Dense(3,activation = 'softmax')(CN_layer_2)\n",
    "\n",
    "#Final model\n",
    "model = Model(inputs = [C_input, N_input], outputs = CN_output)\n",
    "\n",
    "#Compile and FIT\n",
    "model.compile(optimizer= 'adam', \n",
    "              loss = 'categorical_crossentropy', \n",
    "              metrics = ['accuracy'])\n",
    "history = model.fit([x_trainC,x_trainN], y_trainC, epochs = 50, validation_split = 0.2, batch_size = 256, verbose = 1)"
   ]
  },
  {
   "cell_type": "code",
   "execution_count": 18,
   "id": "00eb4bf5",
   "metadata": {
    "execution": {
     "iopub.execute_input": "2024-02-18T15:12:40.508747Z",
     "iopub.status.busy": "2024-02-18T15:12:40.508433Z",
     "iopub.status.idle": "2024-02-18T15:12:40.791257Z",
     "shell.execute_reply": "2024-02-18T15:12:40.790339Z"
    },
    "papermill": {
     "duration": 0.304875,
     "end_time": "2024-02-18T15:12:40.793277",
     "exception": false,
     "start_time": "2024-02-18T15:12:40.488402",
     "status": "completed"
    },
    "tags": []
   },
   "outputs": [
    {
     "data": {
      "text/plain": [
       "<matplotlib.legend.Legend at 0x7f810ea7d280>"
      ]
     },
     "execution_count": 18,
     "metadata": {},
     "output_type": "execute_result"
    },
    {
     "data": {
      "image/png": "[encoded data removed]",
      "text/plain": [
       "<Figure size 640x480 with 1 Axes>"
      ]
     },
     "metadata": {},
     "output_type": "display_data"
    }
   ],
   "source": [
    "df_DL = pd.DataFrame(history.history)\n",
    "df_DL.head()\n",
    "plt.plot(df_DL.index, df_DL['loss'], label = 'loss')\n",
    "plt.plot(df_DL.index, df_DL['val_loss'], label = 'Val_loss')\n",
    "plt.xlabel( 'Epochs')\n",
    "plt.ylabel('crossentropy')\n",
    "plt.title('DL loss function')\n",
    "plt.legend()"
   ]
  },
  {
   "cell_type": "code",
   "execution_count": 19,
   "id": "e246df7e",
   "metadata": {
    "execution": {
     "iopub.execute_input": "2024-02-18T15:12:40.833782Z",
     "iopub.status.busy": "2024-02-18T15:12:40.833473Z",
     "iopub.status.idle": "2024-02-18T15:12:41.039629Z",
     "shell.execute_reply": "2024-02-18T15:12:41.038431Z"
    },
    "papermill": {
     "duration": 0.228725,
     "end_time": "2024-02-18T15:12:41.041672",
     "exception": false,
     "start_time": "2024-02-18T15:12:40.812947",
     "status": "completed"
    },
    "tags": []
   },
   "outputs": [
    {
     "name": "stdout",
     "output_type": "stream",
     "text": [
      "\u001b[1m8/8\u001b[0m \u001b[32m━━━━━━━━━━━━━━━━━━━━\u001b[0m\u001b[37m\u001b[0m \u001b[1m0s\u001b[0m 19ms/step\n",
      "              precision    recall  f1-score   support\n",
      "\n",
      "        died       0.70      0.78      0.73        89\n",
      "  euthanized       0.57      0.55      0.56        42\n",
      "       lived       0.80      0.74      0.77       116\n",
      "\n",
      "    accuracy                           0.72       247\n",
      "   macro avg       0.69      0.69      0.69       247\n",
      "weighted avg       0.72      0.72      0.72       247\n",
      "\n"
     ]
    }
   ],
   "source": [
    "y_pred = model.predict([x_testC,x_testN])\n",
    "y_pred = np.argmax(y_pred, axis = 1) # Inverse to_categorical\n",
    "target_names = [x for x in list(Normal_target.classes_)]\n",
    "print(classification_report(y_testC, y_pred , target_names = target_names))"
   ]
  },
  {
   "cell_type": "code",
   "execution_count": 20,
   "id": "79cc050a",
   "metadata": {
    "execution": {
     "iopub.execute_input": "2024-02-18T15:12:41.083239Z",
     "iopub.status.busy": "2024-02-18T15:12:41.082899Z",
     "iopub.status.idle": "2024-02-18T15:12:41.088771Z",
     "shell.execute_reply": "2024-02-18T15:12:41.088009Z"
    },
    "papermill": {
     "duration": 0.028444,
     "end_time": "2024-02-18T15:12:41.090652",
     "exception": false,
     "start_time": "2024-02-18T15:12:41.062208",
     "status": "completed"
    },
    "tags": []
   },
   "outputs": [],
   "source": [
    "x_train, x_test, y_train, y_test = train_test_split(CN_train_data, target, train_size = 0.8, random_state = 0)"
   ]
  },
  {
   "cell_type": "code",
   "execution_count": null,
   "id": "875ac1d0",
   "metadata": {
    "execution": {
     "iopub.execute_input": "2024-02-18T15:12:42.677583Z",
     "iopub.status.busy": "2024-02-18T15:12:42.677281Z",
     "iopub.status.idle": "2024-02-18T15:12:46.426060Z",
     "shell.execute_reply": "2024-02-18T15:12:46.425070Z"
    },
    "papermill": {
     "duration": 3.771435,
     "end_time": "2024-02-18T15:12:46.428163",
     "exception": false,
     "start_time": "2024-02-18T15:12:42.656728",
     "status": "completed"
    },
    "tags": []
   },
   "outputs": [],
   "source": [
    "ETC = ExtraTreesClassifier(n_estimators = 1200, n_jobs=-1).fit(x_train, y_train)\n",
    "print('The Score for validation on ExtraTreesClassifier :', ETC.score(x_test, y_test))\n",
    "y_pred = ETC.predict(x_test)\n",
    "target_names = [x for x in list(Normal_target.classes_)]\n",
    "print(classification_report(y_test, y_pred , target_names = target_names))"
   ]
  },
  {
   "cell_type": "code",
   "execution_count": null,
   "id": "68126de0",
   "metadata": {
    "execution": {
     "iopub.execute_input": "2024-02-18T15:12:46.469803Z",
     "iopub.status.busy": "2024-02-18T15:12:46.469498Z",
     "iopub.status.idle": "2024-02-18T15:12:46.502804Z",
     "shell.execute_reply": "2024-02-18T15:12:46.502146Z"
    },
    "papermill": {
     "duration": 0.056095,
     "end_time": "2024-02-18T15:12:46.504774",
     "exception": false,
     "start_time": "2024-02-18T15:12:46.448679",
     "status": "completed"
    },
    "tags": []
   },
   "outputs": [],
   "source": [
    "prediction = XG.predict(CN_test_data)\n",
    "submission = pd.read_csv('/kaggle/input/playground-series-s3e22/sample_submission.csv')\n",
    "submission[\"outcome\"] = Normal_target.inverse_transform(prediction)\n",
    "submission.to_csv('submission.csv', index=False)"
   ]
  }
 ],
 "metadata": {
  "kaggle": {
   "accelerator": "gpu",
   "dataSources": [
    {
     "databundleVersionId": 6536030,
     "sourceId": 59110,
     "sourceType": "competition"
    }
   ],
   "isGpuEnabled": true,
   "isInternetEnabled": true,
   "language": "python",
   "sourceType": "notebook"
  },
  "kernelspec": {
   "display_name": "Python 3 (ipykernel)",
   "language": "python",
   "name": "python3"
  },
  "language_info": {
   "codemirror_mode": {
    "name": "ipython",
    "version": 3
   },
   "file_extension": ".py",
   "mimetype": "text/x-python",
   "name": "python",
   "nbconvert_exporter": "python",
   "pygments_lexer": "ipython3",
   "version": "3.9.13"
  },
  "papermill": {
   "default_parameters": {},
   "duration": 31.920254,
   "end_time": "2024-02-18T15:12:48.447948",
   "environment_variables": {},
   "exception": null,
   "input_path": "__notebook__.ipynb",
   "output_path": "__notebook__.ipynb",
   "parameters": {},
   "start_time": "2024-02-18T15:12:16.527694",
   "version": "2.5.0"
  }
 },
 "nbformat": 4,
 "nbformat_minor": 5
}
